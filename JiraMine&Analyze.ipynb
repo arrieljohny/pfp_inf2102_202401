{
 "cells": [
  {
   "cell_type": "markdown",
   "id": "8740b468-85d7-4b16-b942-e6101387f77a",
   "metadata": {},
   "source": [
    "# Projeto : Mineração e analise de dados provinientes da plataforma Jira"
   ]
  },
  {
   "cell_type": "markdown",
   "id": "c901686b-9fcc-45b9-befc-d14abf1b50ea",
   "metadata": {},
   "source": [
    "### Requisitos"
   ]
  },
  {
   "cell_type": "code",
   "execution_count": 16,
   "id": "58cc930e",
   "metadata": {},
   "outputs": [],
   "source": [
    "#!pip install customtkinter\n",
    "#!pip install python-dotenv\n",
    "#!pip install text2emotion\n",
    "#!pip install emoji==1.6.3\n",
    "#!pip install deep-translator\n",
    "#!pip install pyvirtualdisplay"
   ]
  },
  {
   "cell_type": "markdown",
   "id": "808b148a-430f-4365-b1d7-068495662dca",
   "metadata": {},
   "source": [
    "### Importações das bibliotecas"
   ]
  },
  {
   "cell_type": "code",
   "execution_count": 12,
   "id": "32431041",
   "metadata": {},
   "outputs": [],
   "source": [
    "import requests\n",
    "import customtkinter as ctk\n",
    "from tkinter import messagebox, Toplevel, Checkbutton, IntVar, Canvas, Frame, Scrollbar\n",
    "import json\n",
    "import os \n",
    "from dotenv import load_dotenv\n",
    "from urllib.parse import urlparse\n",
    "import pandas as pd "
   ]
  },
  {
   "cell_type": "code",
   "execution_count": 14,
   "id": "492d9649",
   "metadata": {},
   "outputs": [],
   "source": [
    "import text2emotion as te\n",
    "from deep_translator import (GoogleTranslator,\n",
    "                             ChatGptTranslator,\n",
    "                             MicrosoftTranslator,\n",
    "                             PonsTranslator,\n",
    "                             LingueeTranslator,\n",
    "                             MyMemoryTranslator,\n",
    "                             YandexTranslator,\n",
    "                             PapagoTranslator,\n",
    "                             DeeplTranslator,\n",
    "                             QcriTranslator,\n",
    "                             single_detection,\n",
    "                             batch_detection)"
   ]
  },
  {
   "cell_type": "markdown",
   "id": "9636e3db-d564-48d7-8ddd-88871c4ec5d6",
   "metadata": {},
   "source": [
    "### Chaves de atutenticação"
   ]
  },
  {
   "cell_type": "code",
   "execution_count": 78,
   "id": "11d1d3a3",
   "metadata": {},
   "outputs": [],
   "source": [
    "#INSERIR AQUI OS DADOS VALIDOS PARA CONEXÃO E COLETA DOS DADOS\n",
    "EMAIL = \"email@gmail.com\"\n",
    "API_TOKEN = \"eJZu_KMdV_tUN0oAgyZD7kuAQEbwJVO7EvmIoaD03dR7vwjXzx1oGg3UoPOs03mC9AF\"\n",
    "PROJECT_URL = \"https://projetoxpto.atlassian.net/jira/software/c/projects/cpto/boards/1\"\n",
    "PROJECT_KEY = \"XPTO\""
   ]
  },
  {
   "cell_type": "markdown",
   "id": "2af11a06-8bef-47f0-bbb6-298f3b777ee2",
   "metadata": {},
   "source": [
    "### Função de coleta das tarefas"
   ]
  },
  {
   "cell_type": "code",
   "execution_count": 38,
   "id": "f71ce16d",
   "metadata": {},
   "outputs": [],
   "source": [
    "def collect_tasks(jira_domain, project_key, task_type, auth, fields):\n",
    "    url = f\"https://{jira_domain}/rest/api/2/search\"\n",
    "    query = {\n",
    "        'jql': f'project={project_key} AND issuetype={task_type}',\n",
    "        'fields': fields\n",
    "    }\n",
    "    # print(f\"Request URL: {url}\")\n",
    "    # print(f\"Request Query: {query}\")\n",
    "    response = requests.get(url, params=query, auth=auth)\n",
    "    try:\n",
    "        response.raise_for_status()\n",
    "    except requests.exceptions.HTTPError as e:\n",
    "        print(f\"Error response: {response.text}\")\n",
    "        raise e\n",
    "    issues = response.json()['issues']\n",
    "    \n",
    "    return issues"
   ]
  },
  {
   "cell_type": "markdown",
   "id": "bf49373a-08bc-490a-82f6-28f12f0d2ae0",
   "metadata": {},
   "source": [
    "### Função de coleta dos campos disponives nas tarefas"
   ]
  },
  {
   "cell_type": "code",
   "execution_count": 40,
   "id": "23cc5db9",
   "metadata": {},
   "outputs": [],
   "source": [
    "def get_available_fields(jira_domain, auth):\n",
    "    url = f\"https://{jira_domain}/rest/api/2/field\"\n",
    "    response = requests.get(url, auth=auth)\n",
    "    response.raise_for_status()\n",
    "    fields = response.json()\n",
    "    return fields"
   ]
  },
  {
   "cell_type": "code",
   "execution_count": 41,
   "id": "3ca05599",
   "metadata": {},
   "outputs": [],
   "source": [
    "def extract_jira_domain(url: str):\n",
    "    \"\"\"\n",
    "    Extrai o domínio relevante da URL do Jira.\n",
    "    \n",
    "    Args:\n",
    "    url (str): A URL completa do Jira.\n",
    "    \n",
    "    Returns:\n",
    "    str: O domínio relevante do Jira.\n",
    "    \"\"\"\n",
    "    parsed_url = urlparse(url)\n",
    "    return parsed_url.netloc"
   ]
  },
  {
   "cell_type": "markdown",
   "id": "0b0e0338-10e6-4c88-b88d-f7605a1a42ec",
   "metadata": {},
   "source": [
    "### APP principal com interface de interação com usuário"
   ]
  },
  {
   "cell_type": "code",
   "execution_count": 29,
   "id": "550182b9",
   "metadata": {},
   "outputs": [],
   "source": [
    "class JiraDataMinerApp(ctk.CTk):\n",
    "\n",
    "    def __init__(self):\n",
    "        super().__init__()\n",
    "\n",
    "        self.title(\"Jira Data Miner\")\n",
    "        self.geometry(\"800x800\")\n",
    "        \n",
    "        self.url_label = ctk.CTkLabel(self, font=('Roboto', 25, \"bold\"), text=\"Jira Domain URL:\")\n",
    "        self.url_label.pack(pady=(100,30))\n",
    "        self.url_entry = ctk.CTkEntry(self, width=400, placeholder_text=PROJECT_URL)\n",
    "        self.url_entry.pack(pady=(0,50))\n",
    "\n",
    "        self.key_label = ctk.CTkLabel(self, font=('Roboto', 25, \"bold\"), text=\"Project Key:\")\n",
    "        self.key_label.pack(pady=(0,30))\n",
    "        self.key_entry = ctk.CTkEntry(self, width=400,  placeholder_text=PROJECT_KEY)\n",
    "        self.key_entry.pack(pady=(0,50))\n",
    "\n",
    "        self.load_fields_button = ctk.CTkButton(self,\n",
    "                                 width=200,\n",
    "                                 height=40,\n",
    "                                 border_width=0,\n",
    "                                 corner_radius=8,\n",
    "                                 text=\"Load Fields\", font=('Roboto', 15, \"bold\"), command=self.load_fields)\n",
    "        self.load_fields_button.pack(pady=30)\n",
    "\n",
    "        self.fields_window = None\n",
    "        self.fields_vars = {}\n",
    "\n",
    "    def mine_data(self):\n",
    "        url = PROJECT_URL\n",
    "        jira_domain = extract_jira_domain(url)\n",
    "        project_key = PROJECT_KEY\n",
    "        auth = (EMAIL, API_TOKEN)\n",
    "\n",
    "        if not jira_domain or not project_key:\n",
    "            messagebox.showerror(\"Error\", \"Please enter both the Jira Domain URL and Project Key.\")\n",
    "            return\n",
    "\n",
    "        task_types = []\n",
    "        if self.epics_switch.get():\n",
    "            task_types.append(('Epic', collect_tasks))\n",
    "        if self.user_stories_switch.get():\n",
    "            task_types.append(('Story', collect_tasks))\n",
    "        if self.tasks_switch.get():\n",
    "            task_types.append(('Task', collect_tasks))\n",
    "        if self.subtasks_switch.get():\n",
    "            task_types.append(('Sub-task', collect_tasks))\n",
    "        if self.bugs_switch.get():\n",
    "            task_types.append(('Bug', collect_tasks))\n",
    "        if self.enablers_switch.get():\n",
    "            task_types.append(('Enabler', collect_tasks))\n",
    "\n",
    "        all_issues = {}\n",
    "        fields = ','.join(self.selected_fields)\n",
    "        for task_type, func in task_types:\n",
    "            #print(task_type)\n",
    "            tasks = func(jira_domain, project_key, task_type, auth, fields)\n",
    "            all_issues[task_type] = tasks\n",
    "            print(f\"Collected {len(tasks)} {task_type}(s)\")\n",
    "\n",
    "        save_to_json(all_issues, project_key)\n",
    "        messagebox.showinfo(\"Success\", f\"Data has been successfully mined and saved to {project_key.lower()}_issues.json\")\n",
    "\n",
    "    def show_mining_options(self):\n",
    "        \n",
    "        self.epics_switch = ctk.CTkSwitch(self, text=\"Epics\")\n",
    "        self.epics_switch.pack(pady=5)\n",
    "        self.user_stories_switch = ctk.CTkSwitch(self, text=\"User Stories\")\n",
    "        self.user_stories_switch.pack(pady=5)\n",
    "        self.tasks_switch = ctk.CTkSwitch(self, text=\"Tasks\")\n",
    "        self.tasks_switch.pack(pady=5)\n",
    "        self.subtasks_switch = ctk.CTkSwitch(self, text=\"Sub-tasks\")\n",
    "        self.subtasks_switch.pack(pady=5)\n",
    "        self.bugs_switch = ctk.CTkSwitch(self, text=\"Bugs\")\n",
    "        self.bugs_switch.pack(pady=5)\n",
    "        self.enablers_switch = ctk.CTkSwitch(self, text=\"Enablers\")\n",
    "        self.enablers_switch.pack(pady=5)\n",
    "        self.mine_button = ctk.CTkButton(self, \n",
    "                                         width=200, \n",
    "                                         height=40, \n",
    "                                         border_width=0, \n",
    "                                         corner_radius=8, \n",
    "                                         font=('Roboto', 15, \"bold\"),\n",
    "                                         text=\"Mine Data\", command=self.mine_data)\n",
    "        self.mine_button.pack(pady=30)\n",
    "    \n",
    "    def confirm_selection(self):\n",
    "        selected_fields = [field_id for field_id, var in self.fields_vars.items() if var.get() == 1]\n",
    "        if not selected_fields:\n",
    "            messagebox.showerror(\"Error\", \"Please select at least one field.\")\n",
    "            return\n",
    "\n",
    "        self.selected_fields = selected_fields\n",
    "        self.fields_window.destroy()\n",
    "        self.show_mining_options()\n",
    "\n",
    "    def show_fields_selection(self, fields):\n",
    "        if self.fields_window:\n",
    "            self.fields_window.destroy()\n",
    "\n",
    "        self.fields_window = Toplevel(self)\n",
    "        self.fields_window.title(\"Select Fields\")\n",
    "        self.fields_window.geometry(\"500x650\")\n",
    "\n",
    "        canvas = Canvas(self.fields_window)\n",
    "        canvas.pack(side=\"left\", fill=\"both\", expand=True)\n",
    "\n",
    "        scrollbar = Scrollbar(self.fields_window, orient=\"vertical\", command=canvas.yview)\n",
    "        scrollbar.pack(side=\"right\", fill=\"y\")\n",
    "\n",
    "        scrollable_frame = Frame(canvas)\n",
    "        scrollable_frame.bind(\n",
    "            \"<Configure>\",\n",
    "            lambda e: canvas.configure(\n",
    "                scrollregion=canvas.bbox(\"all\")\n",
    "            )\n",
    "        )\n",
    "\n",
    "        canvas.create_window((0, 0), window=scrollable_frame, anchor=\"nw\")\n",
    "        canvas.configure(yscrollcommand=scrollbar.set)\n",
    "\n",
    "        for field in fields:\n",
    "            var = IntVar()\n",
    "            chk = Checkbutton(scrollable_frame, text=field['name'], variable=var)\n",
    "            chk.pack(anchor='w')\n",
    "            self.fields_vars[field['id']] = var\n",
    "\n",
    "        # Adicionar um Frame adicional para o botão\n",
    "        button_frame = Frame(scrollable_frame)\n",
    "        button_frame.pack(fill='x', pady=10)\n",
    "        self.confirm_button = ctk.CTkButton(button_frame,\n",
    "                                            width=200, \n",
    "                                            height=40, \n",
    "                                            border_width=0, \n",
    "                                            corner_radius=8, \n",
    "                                            font=('Roboto', 15, \"bold\"),\n",
    "                                            text=\"Confirm Selection\", command=self.confirm_selection)\n",
    "        self.confirm_button.pack(pady=20, anchor='center')\n",
    "    \n",
    "    def load_fields(self):\n",
    "\n",
    "        url = PROJECT_URL\n",
    "        jira_domain = extract_jira_domain(url)\n",
    "        auth = (EMAIL, API_TOKEN)\n",
    "\n",
    "        try:\n",
    "            fields = get_available_fields(jira_domain, auth)\n",
    "        except requests.exceptions.HTTPError as e:\n",
    "            messagebox.showerror(\"Error\", f\"Failed to load fields: {e}\")\n",
    "            return\n",
    "\n",
    "        self.show_fields_selection(fields)\n"
   ]
  },
  {
   "cell_type": "markdown",
   "id": "7e514930-a2e7-4f2d-b57e-9dc6f85c8fb2",
   "metadata": {},
   "source": [
    "### Função responsável por salvar os dados coletados em um arquivo Json"
   ]
  },
  {
   "cell_type": "code",
   "execution_count": 32,
   "id": "6cde95f9",
   "metadata": {},
   "outputs": [],
   "source": [
    "def save_to_json(data, project_key):\n",
    "    filename=f'{project_key.lower()}_issues.json'\n",
    "    with open(filename, 'w', encoding='utf-8') as f:\n",
    "        json.dump(data, f, ensure_ascii=False, indent=4)"
   ]
  },
  {
   "cell_type": "markdown",
   "id": "d4719766-d3ce-42a3-9c4b-73141f69e1c7",
   "metadata": {},
   "source": [
    "### Chamada para execuçãoo do app com interface de interação com o usuário"
   ]
  },
  {
   "cell_type": "code",
   "execution_count": 48,
   "id": "ce3004bd",
   "metadata": {},
   "outputs": [
    {
     "name": "stdout",
     "output_type": "stream",
     "text": [
      "Collected 50 Sub-task(s)\n"
     ]
    }
   ],
   "source": [
    "if __name__ == \"__main__\":\n",
    "    app = JiraDataMinerApp()\n",
    "    app.mainloop()"
   ]
  },
  {
   "cell_type": "code",
   "execution_count": null,
   "id": "64be7b49",
   "metadata": {},
   "outputs": [],
   "source": [
    "#Importar Json de dados gerado"
   ]
  },
  {
   "cell_type": "code",
   "execution_count": 50,
   "id": "14783375-b974-402a-a6e6-a89e6ceca991",
   "metadata": {},
   "outputs": [],
   "source": [
    "filename = f'{PROJECT_KEY.lower()}_issues.json'\n",
    "df = pd.read_json(filename)"
   ]
  },
  {
   "cell_type": "code",
   "execution_count": 52,
   "id": "04e74e56-27d7-4783-9ed4-21ba9a5c7f92",
   "metadata": {},
   "outputs": [],
   "source": [
    "key = []\n",
    "status = []\n",
    "assignee_id = []\n",
    "assignee_name = []\n",
    "originalEstimate = []\n",
    "remainingEstimate = []\n",
    "timeSpent = []\n",
    "text_br = []\n",
    "text_en = []\n",
    "emotion = []\n",
    "happy = []\n",
    "angry = []\n",
    "surprise = []\n",
    "sad = []\n",
    "fear = []"
   ]
  },
  {
   "cell_type": "markdown",
   "id": "09d2e377-35c1-4edb-bb18-51cc53d2f851",
   "metadata": {},
   "source": [
    "### Obtem informações textuais de comentários nas tarefas"
   ]
  },
  {
   "cell_type": "code",
   "execution_count": 55,
   "id": "10f05c79-ab77-4b40-a8a5-e654613b5759",
   "metadata": {},
   "outputs": [],
   "source": [
    "def getComments(taskComments):\n",
    "    i = 0\n",
    "    comments = \" \"\n",
    "    while i < len(taskComments):\n",
    "        comments += taskComments[i]['body']\n",
    "        i += 1\n",
    "\n",
    "    return comments"
   ]
  },
  {
   "cell_type": "markdown",
   "id": "c4cd6d17-9926-43e0-95e2-c50fbf7dd874",
   "metadata": {},
   "source": [
    "### Realiza o pós processamento dos dados obtidos e analisa o sentimento contido nas mensagens textuais"
   ]
  },
  {
   "cell_type": "code",
   "execution_count": 57,
   "id": "8de526a0-1bdb-4f4c-8aeb-ef6c0dbeddc8",
   "metadata": {},
   "outputs": [],
   "source": [
    "i = 0\n",
    "#def dataProcess(df):\n",
    "while i < len(df['Sub-task']):\n",
    "    if df['Sub-task'][i]['fields']['assignee'] is not None:\n",
    "        task_key = df['Sub-task'][i]['key']\n",
    "        task_status = df['Sub-task'][i]['fields']['status']['name']\n",
    "        task_assignee_id = (df['Sub-task'][i]['fields']['assignee']['accountId'])\n",
    "        task_assignee_name = df['Sub-task'][i]['fields']['assignee']['displayName']\n",
    "        task_description = df['Sub-task'][i]['fields']['description']\n",
    "        task_summary = df['Sub-task'][i]['fields']['summary']\n",
    "        task_comments = df['Sub-task'][i]['fields']['comment']['comments']\n",
    "        \n",
    "        if df['Sub-task'][i]['fields']['timetracking'] :\n",
    "            timetracking = df['Sub-task'][i]['fields']['timetracking']\n",
    "            task_originalEstimate = df['Sub-task'][i]['fields']['timetracking']['originalEstimateSeconds']\n",
    "            task_remainingEstimate = df['Sub-task'][i]['fields']['timetracking']['remainingEstimateSeconds']\n",
    "            task_timeSpent = 0 if len(timetracking)<6 else (timetracking['timeSpentSeconds'])\n",
    "\n",
    "        else :\n",
    "            task_originalEstimate = 0\n",
    "            task_remainingEstimate = 0\n",
    "            task_timeSpent = 0\n",
    "        \n",
    "        textComments = getComments(task_comments)\n",
    "        \n",
    "        task_text_br = (('d' if task_summary is None else task_summary) + \" \" +\n",
    "                        ('d' if task_description is None else task_description) + \" \" +\n",
    "                        ('d' if textComments is None else textComments))\n",
    "        task_text_en = GoogleTranslator(source='auto', target='en').translate(task_text_br)\n",
    "        task_emotion = te.get_emotion(task_text_en)\n",
    "        task_happy = task_emotion['Happy']\n",
    "        task_angry = task_emotion['Angry']\n",
    "        task_surprise = task_emotion['Surprise']\n",
    "        task_sad = task_emotion['Sad']\n",
    "        task_fear = task_emotion['Fear']\n",
    "        \n",
    "        \n",
    "        key.append(task_key)\n",
    "        status.append(task_status)\n",
    "        assignee_id.append(task_assignee_id)\n",
    "        assignee_name.append(task_assignee_name)\n",
    "        originalEstimate.append(task_originalEstimate)\n",
    "        remainingEstimate.append(task_remainingEstimate)\n",
    "        timeSpent.append(task_timeSpent)\n",
    "        text_br.append(task_text_br)\n",
    "        text_en.append(task_text_en)\n",
    "        happy.append(task_happy)\n",
    "        angry.append(task_angry)\n",
    "        surprise.append(task_surprise)\n",
    "        sad.append(task_sad)\n",
    "        fear.append(task_fear)\n",
    "        emotion.append(task_emotion)\n",
    "        \n",
    "        \n",
    "    else:\n",
    "        print(\"Not assignee \" + df['Sub-task'][i]['key'])\n",
    "        \n",
    "    i += 1"
   ]
  },
  {
   "cell_type": "markdown",
   "id": "37bfcb3c-9a76-4229-b816-d8797b576e41",
   "metadata": {},
   "source": [
    "### Cria objeto compilando dados processados"
   ]
  },
  {
   "cell_type": "code",
   "execution_count": 58,
   "id": "3b111ea1-f9ae-4460-8514-9c787bdd9c2a",
   "metadata": {},
   "outputs": [],
   "source": [
    "data = {\n",
    "'key' : key,\n",
    "'status' : status,\n",
    "'assignee_id' : assignee_id,\n",
    "'assignee_name' : assignee_name,\n",
    "'originalEstimate' : originalEstimate,\n",
    "'remainingEstimate' : remainingEstimate,\n",
    "'timeSpent' : timeSpent,\n",
    "'text_br' : text_br,\n",
    "'text_en' : text_en,\n",
    "'happy' : happy,\n",
    "'angry' :angry,\n",
    "'surprise' : surprise,\n",
    "'sad' : sad,\n",
    "'fear' : fear,\n",
    "'emotion' : emotion\n",
    "}"
   ]
  },
  {
   "cell_type": "markdown",
   "id": "0471f5db-da5a-4240-8565-a27186fa86fb",
   "metadata": {},
   "source": [
    "### Imprime resultado do processamento de emoções"
   ]
  },
  {
   "cell_type": "code",
   "execution_count": 62,
   "id": "a6753150-3ac4-4501-8904-3204bb0039e6",
   "metadata": {},
   "outputs": [
    {
     "data": {
      "text/plain": [
       "[{'Happy': 0.0, 'Angry': 0.0, 'Surprise': 0.0, 'Sad': 0.0, 'Fear': 1.0},\n",
       " {'Happy': 0, 'Angry': 0, 'Surprise': 0, 'Sad': 0, 'Fear': 0},\n",
       " {'Happy': 0, 'Angry': 0, 'Surprise': 0, 'Sad': 0, 'Fear': 0},\n",
       " {'Happy': 0.0, 'Angry': 0.0, 'Surprise': 0.0, 'Sad': 0.0, 'Fear': 1.0},\n",
       " {'Happy': 0, 'Angry': 0, 'Surprise': 0, 'Sad': 0, 'Fear': 0},\n",
       " {'Happy': 0, 'Angry': 0, 'Surprise': 0, 'Sad': 0, 'Fear': 0},\n",
       " {'Happy': 1.0, 'Angry': 0.0, 'Surprise': 0.0, 'Sad': 0.0, 'Fear': 0.0},\n",
       " {'Happy': 0.0, 'Angry': 0.0, 'Surprise': 0.0, 'Sad': 0.0, 'Fear': 1.0},\n",
       " {'Happy': 0, 'Angry': 0, 'Surprise': 0, 'Sad': 0, 'Fear': 0},\n",
       " {'Happy': 0.21, 'Angry': 0.0, 'Surprise': 0.0, 'Sad': 0.07, 'Fear': 0.71},\n",
       " {'Happy': 0.0, 'Angry': 0.0, 'Surprise': 0.0, 'Sad': 0.0, 'Fear': 1.0},\n",
       " {'Happy': 0.0, 'Angry': 0.0, 'Surprise': 0.0, 'Sad': 0.4, 'Fear': 0.6},\n",
       " {'Happy': 0.5, 'Angry': 0.0, 'Surprise': 0.5, 'Sad': 0.0, 'Fear': 0.0},\n",
       " {'Happy': 0.0, 'Angry': 0.0, 'Surprise': 0.0, 'Sad': 0.5, 'Fear': 0.5},\n",
       " {'Happy': 0, 'Angry': 0, 'Surprise': 0, 'Sad': 0, 'Fear': 0},\n",
       " {'Happy': 0.0, 'Angry': 0.0, 'Surprise': 0.0, 'Sad': 0.0, 'Fear': 1.0},\n",
       " {'Happy': 0.0, 'Angry': 0.0, 'Surprise': 0.15, 'Sad': 0.15, 'Fear': 0.7},\n",
       " {'Happy': 0.1, 'Angry': 0.0, 'Surprise': 0.1, 'Sad': 0.0, 'Fear': 0.8},\n",
       " {'Happy': 0.0, 'Angry': 0.0, 'Surprise': 0.2, 'Sad': 0.2, 'Fear': 0.6},\n",
       " {'Happy': 0.0, 'Angry': 0.0, 'Surprise': 0.33, 'Sad': 0.0, 'Fear': 0.67},\n",
       " {'Happy': 0, 'Angry': 0, 'Surprise': 0, 'Sad': 0, 'Fear': 0},\n",
       " {'Happy': 0.5, 'Angry': 0.0, 'Surprise': 0.0, 'Sad': 0.5, 'Fear': 0.0},\n",
       " {'Happy': 0.0, 'Angry': 0.0, 'Surprise': 0.33, 'Sad': 0.0, 'Fear': 0.67},\n",
       " {'Happy': 0.0, 'Angry': 0.07, 'Surprise': 0.07, 'Sad': 0.27, 'Fear': 0.6},\n",
       " {'Happy': 0, 'Angry': 0, 'Surprise': 0, 'Sad': 0, 'Fear': 0},\n",
       " {'Happy': 0.0, 'Angry': 0.0, 'Surprise': 0.0, 'Sad': 0.0, 'Fear': 1.0},\n",
       " {'Happy': 0.0, 'Angry': 0.0, 'Surprise': 0.0, 'Sad': 0.5, 'Fear': 0.5},\n",
       " {'Happy': 0.0, 'Angry': 0.0, 'Surprise': 0.0, 'Sad': 0.5, 'Fear': 0.5},\n",
       " {'Happy': 0.06, 'Angry': 0.19, 'Surprise': 0.03, 'Sad': 0.16, 'Fear': 0.55},\n",
       " {'Happy': 0.0, 'Angry': 0.0, 'Surprise': 0.0, 'Sad': 0.0, 'Fear': 1.0},\n",
       " {'Happy': 0.0, 'Angry': 0.0, 'Surprise': 0.0, 'Sad': 0.75, 'Fear': 0.25},\n",
       " {'Happy': 0.0, 'Angry': 0.0, 'Surprise': 0.0, 'Sad': 0.5, 'Fear': 0.5},\n",
       " {'Happy': 0.0, 'Angry': 0.0, 'Surprise': 0.0, 'Sad': 0.0, 'Fear': 1.0},\n",
       " {'Happy': 0.2, 'Angry': 0.0, 'Surprise': 0.4, 'Sad': 0.0, 'Fear': 0.4},\n",
       " {'Happy': 0.2, 'Angry': 0.2, 'Surprise': 0.0, 'Sad': 0.2, 'Fear': 0.4},\n",
       " {'Happy': 0.12, 'Angry': 0.12, 'Surprise': 0.0, 'Sad': 0.12, 'Fear': 0.62},\n",
       " {'Happy': 0.0, 'Angry': 0.0, 'Surprise': 0.0, 'Sad': 0.33, 'Fear': 0.67},\n",
       " {'Happy': 0.0, 'Angry': 0.0, 'Surprise': 0.0, 'Sad': 0.0, 'Fear': 1.0},\n",
       " {'Happy': 1.0, 'Angry': 0.0, 'Surprise': 0.0, 'Sad': 0.0, 'Fear': 0.0},\n",
       " {'Happy': 0.0, 'Angry': 0.0, 'Surprise': 0.0, 'Sad': 0.0, 'Fear': 1.0},\n",
       " {'Happy': 0.25, 'Angry': 0.0, 'Surprise': 0.0, 'Sad': 0.12, 'Fear': 0.62},\n",
       " {'Happy': 0.0, 'Angry': 0.0, 'Surprise': 0.14, 'Sad': 0.29, 'Fear': 0.57},\n",
       " {'Happy': 0.0, 'Angry': 0.0, 'Surprise': 0.0, 'Sad': 1.0, 'Fear': 0.0},\n",
       " {'Happy': 0.0, 'Angry': 0.0, 'Surprise': 0.0, 'Sad': 1.0, 'Fear': 0.0},\n",
       " {'Happy': 0.0, 'Angry': 0.0, 'Surprise': 0.0, 'Sad': 0.5, 'Fear': 0.5},\n",
       " {'Happy': 0.0, 'Angry': 0.0, 'Surprise': 0.0, 'Sad': 0.0, 'Fear': 1.0},\n",
       " {'Happy': 0.0, 'Angry': 0.0, 'Surprise': 0.0, 'Sad': 0.17, 'Fear': 0.83},\n",
       " {'Happy': 0.0, 'Angry': 0.0, 'Surprise': 0.0, 'Sad': 0.0, 'Fear': 1.0},\n",
       " {'Happy': 0, 'Angry': 0, 'Surprise': 0, 'Sad': 0, 'Fear': 0},\n",
       " {'Happy': 0.0, 'Angry': 0.0, 'Surprise': 0.0, 'Sad': 0.8, 'Fear': 0.2}]"
      ]
     },
     "execution_count": 62,
     "metadata": {},
     "output_type": "execute_result"
    }
   ],
   "source": [
    "emotion"
   ]
  },
  {
   "cell_type": "markdown",
   "id": "df4e0738-db59-4023-89ca-45b2becb73a0",
   "metadata": {},
   "source": [
    "### Cria dataframe com dados processados"
   ]
  },
  {
   "cell_type": "code",
   "execution_count": 64,
   "id": "bf48fb74-30f2-46d4-b3a8-7d098b3451e1",
   "metadata": {},
   "outputs": [],
   "source": [
    "dfData = pd.DataFrame(data)"
   ]
  },
  {
   "cell_type": "code",
   "execution_count": null,
   "id": "6ae4bacc-28da-4015-8d1a-edaff5529ebc",
   "metadata": {},
   "outputs": [],
   "source": []
  }
 ],
 "metadata": {
  "kernelspec": {
   "display_name": "Python 3 (ipykernel)",
   "language": "python",
   "name": "python3"
  },
  "language_info": {
   "codemirror_mode": {
    "name": "ipython",
    "version": 3
   },
   "file_extension": ".py",
   "mimetype": "text/x-python",
   "name": "python",
   "nbconvert_exporter": "python",
   "pygments_lexer": "ipython3",
   "version": "3.11.5"
  }
 },
 "nbformat": 4,
 "nbformat_minor": 5
}
